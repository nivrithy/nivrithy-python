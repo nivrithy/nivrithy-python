{
 "cells": [
  {
   "cell_type": "code",
   "execution_count": 1,
   "metadata": {},
   "outputs": [],
   "source": [
    "import Arith"
   ]
  },
  {
   "cell_type": "code",
   "execution_count": 2,
   "metadata": {},
   "outputs": [
    {
     "data": {
      "text/plain": [
       "15"
      ]
     },
     "execution_count": 2,
     "metadata": {},
     "output_type": "execute_result"
    }
   ],
   "source": [
    "Arith.add(10,5)"
   ]
  },
  {
   "cell_type": "code",
   "execution_count": 3,
   "metadata": {},
   "outputs": [
    {
     "data": {
      "text/plain": [
       "100"
      ]
     },
     "execution_count": 3,
     "metadata": {},
     "output_type": "execute_result"
    }
   ],
   "source": [
    "Arith.mul(10,10)"
   ]
  },
  {
   "cell_type": "code",
   "execution_count": 5,
   "metadata": {},
   "outputs": [],
   "source": [
    "from Arith import div"
   ]
  },
  {
   "cell_type": "code",
   "execution_count": 6,
   "metadata": {},
   "outputs": [
    {
     "data": {
      "text/plain": [
       "5.0"
      ]
     },
     "execution_count": 6,
     "metadata": {},
     "output_type": "execute_result"
    }
   ],
   "source": [
    "Arith.div(10,2)"
   ]
  },
  {
   "cell_type": "code",
   "execution_count": 7,
   "metadata": {},
   "outputs": [],
   "source": [
    "class amazonaccount:\n",
    "    _msg='welcome guys'"
   ]
  },
  {
   "cell_type": "code",
   "execution_count": 14,
   "metadata": {},
   "outputs": [
    {
     "data": {
      "text/plain": [
       "'welcome guys'"
      ]
     },
     "execution_count": 14,
     "metadata": {},
     "output_type": "execute_result"
    }
   ],
   "source": [
    "obj=amazonaccount()\n",
    "obj.msg"
   ]
  },
  {
   "cell_type": "code",
   "execution_count": 15,
   "metadata": {},
   "outputs": [
    {
     "data": {
      "text/plain": [
       "'welcome guys'"
      ]
     },
     "execution_count": 15,
     "metadata": {},
     "output_type": "execute_result"
    }
   ],
   "source": [
    "obj.msg"
   ]
  },
  {
   "cell_type": "code",
   "execution_count": 1,
   "metadata": {},
   "outputs": [],
   "source": [
    "class student:\n",
    "    def getdata(self,name,rno,mark,grade):\n",
    "        self.name=name\n",
    "        self.rno=rno\n",
    "        self.mark=mark\n",
    "        self.grade=grade\n",
    "    def display(self):\n",
    "        print(\"the name is:\",self.name)\n",
    "        print(\"the rno is:\",self.rno)\n",
    "        print(\"the mark is:\",self.mark)\n",
    "        print(\"the grade is:\",self.grade)"
   ]
  },
  {
   "cell_type": "code",
   "execution_count": 3,
   "metadata": {},
   "outputs": [
    {
     "name": "stdout",
     "output_type": "stream",
     "text": [
      "the name is: nivi\n",
      "the rno is: 1234\n",
      "the mark is: 99\n",
      "the grade is: A\n"
     ]
    }
   ],
   "source": [
    "s=student()\n",
    "s.getdata('nivi',1234,99,'A')\n",
    "s.display()"
   ]
  },
  {
   "cell_type": "code",
   "execution_count": 26,
   "metadata": {},
   "outputs": [],
   "source": [
    "class high:\n",
    "    def __init__(self):\n",
    "        print(f'object created')\n",
    "    "
   ]
  },
  {
   "cell_type": "code",
   "execution_count": 27,
   "metadata": {},
   "outputs": [
    {
     "name": "stdout",
     "output_type": "stream",
     "text": [
      "object created\n"
     ]
    }
   ],
   "source": [
    "obj=high()"
   ]
  },
  {
   "cell_type": "code",
   "execution_count": 33,
   "metadata": {},
   "outputs": [],
   "source": [
    "class low:\n",
    "    def __del__(self):\n",
    "        print(f'object deleted')"
   ]
  },
  {
   "cell_type": "code",
   "execution_count": 32,
   "metadata": {},
   "outputs": [],
   "source": [
    "del low"
   ]
  },
  {
   "cell_type": "code",
   "execution_count": 4,
   "metadata": {},
   "outputs": [],
   "source": [
    "class amazonaccount:\n",
    "  msg='welcome to amazon'"
   ]
  },
  {
   "cell_type": "code",
   "execution_count": 5,
   "metadata": {},
   "outputs": [
    {
     "data": {
      "text/plain": [
       "'welcome to amazon'"
      ]
     },
     "execution_count": 5,
     "metadata": {},
     "output_type": "execute_result"
    }
   ],
   "source": [
    "a=amazonaccount()\n",
    "a.msg"
   ]
  },
  {
   "cell_type": "code",
   "execution_count": 9,
   "metadata": {},
   "outputs": [],
   "source": [
    "class amazonaccount:\n",
    "    msg='welcome'\n",
    "    __default_delivery=7\n",
    "    def __init__(self , name , mail):\n",
    "        self.name=name\n",
    "        self.mail=mail\n",
    "        print(f'hello{self.name}!\\n{self.msg}')"
   ]
  },
  {
   "cell_type": "code",
   "execution_count": 10,
   "metadata": {},
   "outputs": [
    {
     "name": "stdout",
     "output_type": "stream",
     "text": [
      "hellonivi!\n",
      "welcome\n"
     ]
    }
   ],
   "source": [
    "nivi=amazonaccount('nivi','nivi521@gmail.com')"
   ]
  },
  {
   "cell_type": "code",
   "execution_count": 11,
   "metadata": {},
   "outputs": [],
   "source": [
    "class amazonaccount:\n",
    "    __default_delivery=7\n",
    "    welcomemsg='welcome to amazon account'\n",
    "    def __init__(self,name,mobile,email):\n",
    "        self.name=name\n",
    "        self.mobile=mobile\n",
    "        self.email=email\n",
    "    def shopping(self,item):\n",
    "        print(f'{self.name} bought {item}')\n",
    "    def delivery(self):\n",
    "        print(f'{self.name} account deactivated successfully')\n"
   ]
  },
  {
   "cell_type": "code",
   "execution_count": 16,
   "metadata": {},
   "outputs": [],
   "source": [
    "nivi=amazonaccount('nivi',123456789,'nivi521@gmail.com')"
   ]
  },
  {
   "cell_type": "code",
   "execution_count": 14,
   "metadata": {},
   "outputs": [
    {
     "name": "stdout",
     "output_type": "stream",
     "text": [
      "nivi bought iphone\n"
     ]
    }
   ],
   "source": [
    "nivi.shopping('iphone')"
   ]
  },
  {
   "cell_type": "code",
   "execution_count": 15,
   "metadata": {},
   "outputs": [
    {
     "name": "stdout",
     "output_type": "stream",
     "text": [
      "nivi account deactivated successfully\n"
     ]
    }
   ],
   "source": [
    "nivi.delivery()"
   ]
  },
  {
   "cell_type": "code",
   "execution_count": 3,
   "metadata": {},
   "outputs": [],
   "source": [
    "class standard_account:\n",
    "    __default_delivery=7\n",
    "    welcomemsg='welcome'\n",
    "    def __init__(self,name,mobile,email):\n",
    "        self.name=name\n",
    "        self.mobile=mobile\n",
    "        self.email=email\n",
    "        print(self.welcomemsg)\n",
    "    def shopping(self,item):\n",
    "        print(f'{self.name} bought {item}')\n",
    "    def delivery(self):\n",
    "        print(f'order will be delivered in {self.__default_delivery}')\n",
    "    def deactivate_account(self):\n",
    "        print(f'{self.name} account deactivated successfully')"
   ]
  },
  {
   "cell_type": "code",
   "execution_count": 4,
   "metadata": {},
   "outputs": [],
   "source": [
    "class premium_account(standard_account):\n",
    "    welcomemsg='welcome'\n",
    "    def delivery(self):\n",
    "        premium_delivery=1\n",
    "        print(f'''order will be delivered\n",
    "              in {premium_delivery} days''')\n",
    "    def prime_video(self):\n",
    "        print('prime video membership enabled')\n",
    "    def cancel_membership(self):\n",
    "        print(f'{self.name} successfully cancelled the membership')"
   ]
  },
  {
   "cell_type": "code",
   "execution_count": 7,
   "metadata": {},
   "outputs": [
    {
     "name": "stdout",
     "output_type": "stream",
     "text": [
      "welcome\n"
     ]
    },
    {
     "data": {
      "text/plain": [
       "'nivi'"
      ]
     },
     "execution_count": 7,
     "metadata": {},
     "output_type": "execute_result"
    }
   ],
   "source": [
    "myaccount=standard_account('nivi','123456789','nivi521@gmail.com')\n",
    "myaccount.name"
   ]
  },
  {
   "cell_type": "code",
   "execution_count": 8,
   "metadata": {},
   "outputs": [
    {
     "name": "stdout",
     "output_type": "stream",
     "text": [
      "order will be delivered in 7\n"
     ]
    }
   ],
   "source": [
    "myaccount.delivery()"
   ]
  },
  {
   "cell_type": "code",
   "execution_count": 9,
   "metadata": {},
   "outputs": [
    {
     "name": "stdout",
     "output_type": "stream",
     "text": [
      "nivi bought iphone\n"
     ]
    }
   ],
   "source": [
    "myaccount.shopping('iphone')"
   ]
  },
  {
   "cell_type": "code",
   "execution_count": 10,
   "metadata": {},
   "outputs": [
    {
     "name": "stdout",
     "output_type": "stream",
     "text": [
      "nivi account deactivated successfully\n"
     ]
    }
   ],
   "source": [
    "myaccount.deactivate_account()"
   ]
  },
  {
   "cell_type": "code",
   "execution_count": 6,
   "metadata": {},
   "outputs": [
    {
     "ename": "NameError",
     "evalue": "name 'premium_account' is not defined",
     "output_type": "error",
     "traceback": [
      "\u001b[0;31m---------------------------------------------------------------------------\u001b[0m",
      "\u001b[0;31mNameError\u001b[0m                                 Traceback (most recent call last)",
      "Cell \u001b[0;32mIn[6], line 1\u001b[0m\n\u001b[0;32m----> 1\u001b[0m myaccount\u001b[38;5;241m=\u001b[39m \u001b[43mpremium_account\u001b[49m (\u001b[38;5;124m'\u001b[39m\u001b[38;5;124mnivi\u001b[39m\u001b[38;5;124m'\u001b[39m,\u001b[38;5;124m'\u001b[39m\u001b[38;5;124m1234567890\u001b[39m\u001b[38;5;124m'\u001b[39m,\u001b[38;5;124m'\u001b[39m\u001b[38;5;124mnivi21@gmail.com\u001b[39m\u001b[38;5;124m'\u001b[39m)\n\u001b[1;32m      2\u001b[0m myaccount\u001b[38;5;241m.\u001b[39mname\n",
      "\u001b[0;31mNameError\u001b[0m: name 'premium_account' is not defined"
     ]
    }
   ],
   "source": [
    "myaccount= premium_account ('nivi','1234567890','nivi21@gmail.com')\n",
    "myaccount.name"
   ]
  },
  {
   "cell_type": "code",
   "execution_count": 4,
   "metadata": {},
   "outputs": [
    {
     "ename": "NameError",
     "evalue": "name 'mypremiumaccount' is not defined",
     "output_type": "error",
     "traceback": [
      "\u001b[0;31m---------------------------------------------------------------------------\u001b[0m",
      "\u001b[0;31mNameError\u001b[0m                                 Traceback (most recent call last)",
      "Cell \u001b[0;32mIn[4], line 1\u001b[0m\n\u001b[0;32m----> 1\u001b[0m \u001b[43mmypremiumaccount\u001b[49m\u001b[38;5;241m.\u001b[39mdelivery()\n",
      "\u001b[0;31mNameError\u001b[0m: name 'mypremiumaccount' is not defined"
     ]
    }
   ],
   "source": []
  },
  {
   "cell_type": "code",
   "execution_count": null,
   "metadata": {},
   "outputs": [],
   "source": []
  }
 ],
 "metadata": {
  "kernelspec": {
   "display_name": ".venv",
   "language": "python",
   "name": "python3"
  },
  "language_info": {
   "codemirror_mode": {
    "name": "ipython",
    "version": 3
   },
   "file_extension": ".py",
   "mimetype": "text/x-python",
   "name": "python",
   "nbconvert_exporter": "python",
   "pygments_lexer": "ipython3",
   "version": "3.10.12"
  }
 },
 "nbformat": 4,
 "nbformat_minor": 2
}
